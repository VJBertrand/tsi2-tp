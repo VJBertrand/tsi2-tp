{
  "cells": [
    {
      "metadata": {
        "id": "rNkfvCP73hIg"
      },
      "cell_type": "markdown",
      "source": [
        "# TP1 Calorimétrie\n",
        "\n",
        "Un calorimètre est un ensemble constitué d’un vase et d’un couvercle, entouré par un dispositif empêchant les transferts thermiques. Une fois placé dans un calorimètre un ensemble de systèmes, ces systèmes ainsi que le vase forment alors un tout isolé au sens thermodynamique.\n",
        "\n",
        "Les transformations dans un calorimètre peuvent être considérées comme isobares en présence de phases condensées. On aura alors $\\Delta H = 0$ car la transformation est adiabatique.\n",
        "\n",
        "On rappelle que $U$ et $H$ sont des grandeurs extensives : si on réunit deux systèmes d’énergie $U_1$ et $U_2$ (resp. d’enthalpie $H_1$ et $H_2$), l’énergie (resp. l’enthalpie) totale est $U_1 + U_2$ (resp. $H_1 + H_2$)\n",
        "Des données sont disponibles en fin de sujet.\n",
        "\n"
      ]
    },
    {
      "metadata": {
        "id": "ojDXPZMt3hIi"
      },
      "cell_type": "markdown",
      "source": [
        "![Calorimetre.jpg](data:image/jpeg;base64,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)\n",
        "\n",
        "On notera $C$ la capacité du calorimètre."
      ]
    },
    {
      "metadata": {
        "id": "CwT9pu3F3hIj"
      },
      "cell_type": "markdown",
      "source": [
        "---\n",
        "✅ **Objectif du TP** : mesurer la capacité thermique d'un métal (aluminium, zinc, plomb ou cuivre)\n",
        "\n",
        "Pour ce faire, il faudra déjà déterminer la capacité $C$ du calorimètre par une expérience préliminaire.\n",
        "Ensuite, une expérience avec le métal considéré permettra de conclure."
      ]
    },
    {
      "metadata": {
        "id": "PkMRijHO3hIk"
      },
      "cell_type": "markdown",
      "source": [
        "---\n",
        "✅ **Objectifs de formation**\n",
        "- Analyser des notices d'appareil pour identifier leurs caractéristiques et pouvoir estimer des incertitudes\n",
        "- Mettre en oeuvre un protocole de calorimétrie\n",
        "- Vérifier un résultat d'une mesure\n",
        "---"
      ]
    },
    {
      "metadata": {
        "id": "gVV3Nupk3hIk"
      },
      "cell_type": "markdown",
      "source": [
        "## A. Principe de la mesure de $C$"
      ]
    },
    {
      "metadata": {
        "id": "VRbzwJDB3hIl"
      },
      "cell_type": "markdown",
      "source": [
        "On note $C$ la capacité thermique du calorimètre, $c_{eau}$ la capacité massique de l'eau liquide. Ces grandeurs sont supposées être indépendantes de la température. On suppose les phases condensées incompressibles et indilatables.\n",
        "\n",
        "La transformation du système \\{calorimètre et son contenu} est donc adiabatique.\n",
        "\n",
        "L'idée de la mesure de $C$ est la suivante :\n",
        "- On introduit dans le calorimètre une masse $m_1$ d'eau connue. On attend la thermalisation et on note la température $T_1$. \n",
        "- On ajoute une masse $m_2$ d'eau connue et dont la température $T_2$ est connue. \n",
        "- On ferme et on agite. On mesure la température finale $T_f$."
      ]
    },
    {
      "metadata": {
        "id": "TQjPL5zR3hIl"
      },
      "cell_type": "markdown",
      "source": [
        "🖊 **À rédiger sur votre feuille**\n",
        "\n",
        "1. Exprimer en utilisant les grandeurs parmi $T_1,T_2,T_f, c_{eau}, m_1,m_2$ \n",
        "et $C$ la variation d'enthalpie du calorimètre, de la masse d'eau $m_1$ et de la masse d'eau $m_2$.\n",
        "2. En utilisant le fait que la transformation du système complet (calorimètre + masses d'eau) est isobare et adiabatique, montrer que :\n",
        "\t$$C = c_{eau}\\frac{m_1(T_f - T_1) + m_2 (T_f - T_2)}{T_1-T_f}$$"
      ]
    },
    {
      "metadata": {
        "id": "npBt9oJh3hIm"
      },
      "cell_type": "markdown",
      "source": [
        "## B. Étude du matériel utilisé"
      ]
    },
    {
      "metadata": {
        "id": "N5LvITip3hIm"
      },
      "cell_type": "markdown",
      "source": [
        "On suppose $c_{eau} = 4,18 J.K^{-1}.kg^{-1}$ connu avec une infinie précision.\n",
        "Pour mesurer $C$, il faudra donc mesurer des températures et des masses.\n",
        "\n",
        "On dispose d'une balance et d'un thermomètre piloté par EXAO.\n",
        "\n",
        "Jeter un oeil aux notices :\n",
        "- [Balance](https://jeulin.com/media/akeneo_connector/asset_files/N/o/Notice_Kern_datasheet_balanceEMS_705017_1_FR_4aa9.pdf) : le modèle est le EMS 6K0.1\n",
        "\n",
        "- [Thermomètre](https://jeulin.com/media/akeneo_connector/asset_files/N/o/Notice_Jeulin_472004_FR_EN_14c9.pdf)"
      ]
    },
    {
      "metadata": {
        "id": "nG4s9L-03hIm"
      },
      "cell_type": "markdown",
      "source": [
        "🖊 **À rédiger sur votre feuille**\n",
        "3. Quelle est la résolution de chaque appareil ? La résolution est le plus petit intervalle entre deux mesures affichable par l'appareil.\n",
        "2. Quelle est la précision de chaque appareil ? Dans le cas de la balance la précision est limitée par la linéarité de la balance.\n",
        "\n",
        "Nous estimerons que l'incertitude sur une mesure faite avec un appareil est donnée ici par la précision de l'appareil."
      ]
    },
    {
      "metadata": {
        "id": "g3NHXSlm3hIn"
      },
      "cell_type": "markdown",
      "source": [
        "## C. Réalisation du protocole de mesure de $C$"
      ]
    },
    {
      "metadata": {
        "id": "NGgJNT2C3hIn"
      },
      "cell_type": "markdown",
      "source": [
        "🧲 **Protocole** :\n",
        "\n",
        "Placer dans le calorimètre (initialement sec) une masse d'environ 100 g d'eau. Noter précisément cette masse $m_1$ ajoutée (pour ce faire, on pourra tarer la balance avec le calorimètre vide).\n",
        "\n",
        "Fermer le calorimètre, placer la sonde en platine à l'intérieur et attendre environ cinq minutes que le milieu s'homogénéise.\n",
        "\n",
        "Pendant ce temps, faire chauffer de l'eau (environ 200 à 300 mL) avec le bec électrique ou la bouilloire sans atteindre l'ébullition. \n",
        "\t\n",
        "Lorsque l'eau est chaude (au moins 75°C), lancer l'acquisition de la température dans le calorimètre via l'application \"Atelier Scientifique Jeulin\". Prévoir une acquisition de 5 minutes, en prenant un point par seconde. Noter la température $T_1$ de l'eau froide et du calorimètre.\n",
        "\n",
        "Mesurer alors la température $T_2$ de l'eau chaude avec le thermomètre à alimentation autonome. Immédiatement, verser alors l'eau chaude dans le calorimètre et noter précisément la masse $m_2$ ajoutée (pour ce faire, on pourra tarer la balance avec le calorimètre contenant déjà $m_1$ et la sonde). Fermer le calorimètre, et agiter régulièrement.\n",
        "\n",
        "Vérifier sur l'acquisition que la température augmente brusquement, puis se stabilise en décroissant légèrement. Estimer la température $T_f$ atteinte avant le début de la décroissance.\n",
        "\t\n",
        "Laisser l'acquisition se poursuivre jusqu'à la fin. "
      ]
    },
    {
      "metadata": {
        "id": "NjTtlAEB3hIo"
      },
      "cell_type": "markdown",
      "source": [
        "💻 **Résultats : compléter le code ci-dessous avec les valeurs mesurées et leurs incertitudes**"
      ]
    },
    {
      "metadata": {
        "trusted": true,
        "id": "lYLyWNtc3hIo"
      },
      "cell_type": "code",
      "source": [
        "## Résultats de mesure (masses en kg et T en K)\n",
        "m1 = \n",
        "u_m1 = \n",
        "\n",
        "m2 = \n",
        "u_m2 = \n",
        "\n",
        "T1 =\n",
        "u_T1 =\n",
        "\n",
        "T2 = \n",
        "u_T2 =\n",
        "\n",
        "Tf = \n",
        "u_Tf ="
      ],
      "execution_count": null,
      "outputs": []
    },
    {
      "metadata": {
        "id": "2vKYXICa3hIp"
      },
      "cell_type": "markdown",
      "source": [
        "##D. Exploitation des résultats et obtention de $C$ et de son incertitude\n",
        "On souhaite utiliser les résultats précédents pour remonter à une valeur de $C$ et à une incertitude sur $C$.\n",
        "\n",
        "Cependant, la relation entre $C$ et ces grandeurs n'est pas si évidente à utiliser pour propager les incertitudes.\n",
        "\n",
        "Plutôt qu'un calcul théorique d'incertitude, on va se servir de Python pour simuler des jeux de mesures : à partir de ces listes de mesures, on va réaliser plusieurs fois le calcul de $C$ pour déterminer une répartition statistique des valeurs de $C$. L'écart-type de cette répartition permettra d'accéder à une incertitude sur $C$.\n"
      ]
    },
    {
      "metadata": {
        "id": "DYFAIY0v3hIp"
      },
      "cell_type": "markdown",
      "source": [
        "### Illustration du raisonnement :\n",
        "\n",
        "Partant de `m1` et de son incertitude `u_m1`, on va simuler un jet aléatoire de $N=1000$ masses $m_1$ dans l'intervalle $[m_1-u(m_1);m_1+u(m_1)]$.\n",
        "\n",
        "Cela se fait à l'aide du package `numpy.random`.\n",
        "*Compiler les lignes de code ci-dessous en les exécutant avec le symbole* ▶."
      ]
    },
    {
      "metadata": {
        "trusted": true,
        "id": "rAYBYSDT3hIq"
      },
      "cell_type": "code",
      "source": [
        "import numpy as np\n",
        "import numpy.random as rd"
      ],
      "execution_count": null,
      "outputs": []
    },
    {
      "metadata": {
        "trusted": true,
        "id": "ihbdnlyi3hIr"
      },
      "cell_type": "code",
      "source": [
        "N = 1000\n",
        "liste_m1 = rd.uniform(m1-u_m1,m1+u_m1,N)"
      ],
      "execution_count": null,
      "outputs": []
    },
    {
      "metadata": {
        "id": "KTMoIkRs3hIr"
      },
      "cell_type": "markdown",
      "source": [
        "L'objet `liste_m1` est une liste (techniquement un `numpy.array`) de valeurs de masse.\n",
        "Regardons comment les masses sont distribuées dans cet intervalle en traçant un histogramme :"
      ]
    },
    {
      "metadata": {
        "trusted": true,
        "id": "GiZ4JGlb3hIs"
      },
      "cell_type": "code",
      "source": [
        "import matplotlib.pyplot as plt"
      ],
      "execution_count": null,
      "outputs": []
    },
    {
      "metadata": {
        "trusted": true,
        "id": "WDU-MGiW3hIs"
      },
      "cell_type": "code",
      "source": [
        "## Représentation en histogrammes\n",
        "plt.figure(1)\n",
        "plt.hist(liste_m1,bins='rice') \n",
        "plt.xlabel('Masse $m_1$ en kg')\n",
        "plt.ylabel('Effectif')\n",
        "plt.show()"
      ],
      "execution_count": null,
      "outputs": []
    },
    {
      "cell_type": "markdown",
      "source": [
        "On retrouve bien des masses réparties autour de la valeur `m1` dans l'intervalle `u_m1`."
      ],
      "metadata": {
        "id": "sBeqUsF64MJ8"
      }
    },
    {
      "cell_type": "markdown",
      "source": [
        "Imaginons que l'on veuille trouver la masse $m=m_1+m_2$ d'eau : quelle sera la distribution de $m$ ? \n",
        "\n",
        "On procède comme suit :"
      ],
      "metadata": {
        "id": "uDKIruAP4lQN"
      }
    },
    {
      "metadata": {
        "trusted": true,
        "id": "khj0zcNA3hIt"
      },
      "cell_type": "code",
      "source": [
        "liste_m2 = rd.uniform(m2-u_m2,m2+u_m2,N)\n",
        "\n",
        "liste_m = liste_m1+liste_m2\n",
        "\n",
        "plt.figure(2)\n",
        "plt.hist(liste_m,bins='rice') \n",
        "plt.xlabel('Masse $m$ en kg')\n",
        "plt.ylabel('Effectif')\n",
        "plt.show()"
      ],
      "execution_count": null,
      "outputs": []
    },
    {
      "cell_type": "markdown",
      "source": [
        "On se rend compte que la distribution n'est pas exactement la même : il est plus rare de trouver un couple de deux valeurs qui sont toutes deux faibles ou toutes deux grandes, ce qui fait que la distribution s'accentue autour de la moyenne. \n",
        "\n",
        "Mais, comment écrire le résultat $m =$?? avec cette distribution ?\n",
        "\n",
        "On choisit de calculer la moyenne des valeurs obtenues dans ``liste_m``  avec la fonction ``np.mean`` et l'écart-type avec  ``np.std``. On écrira alors $m=$ moyenne $\\pm$ écart-type."
      ],
      "metadata": {
        "id": "HlwJytAt5D1y"
      }
    },
    {
      "cell_type": "code",
      "source": [
        "moy_m=np.mean(liste_m)\n",
        "ecarttype_m =np.std(liste_m,ddof=1) #Le ddof permet d'avoir une meilleur estimation de l'écart type.\n",
        "print(\"Moyenne\")\n",
        "print(moy_m)\n",
        "print(\"Ecart-type\")\n",
        "print(ecarttype_m)\n",
        "print(\"On écrira :\")\n",
        "print(f'$m$ = {moy_m:.4f} ± {ecarttype_m:.4f} kg')"
      ],
      "metadata": {
        "id": "fDY5OE4J5ZS4"
      },
      "execution_count": null,
      "outputs": []
    },
    {
      "cell_type": "markdown",
      "source": [
        "### Utilisation pour trouver $C$ et son incertitude.\n",
        "💻 **À vous de coder**\n",
        "\n",
        "Générer des listes ``liste_T1``, ``liste_T2``, ``liste_Tf`` avec ce même principe.\n",
        "\n",
        "Calculer une liste ``liste_C`` de valeurs de capacité simulées.\n",
        "\n",
        "Calculer sa moyenne et son écart-type et conclure sur l'expérience réalisée.\n",
        "Si vous le souhaitez, afficher la distribution de valeurs obtenues."
      ],
      "metadata": {
        "id": "K7oWqiII6Xur"
      }
    },
    {
      "cell_type": "code",
      "source": [
        "liste_T1 = ..\n",
        "#... à compléter\n",
        "\n",
        "#Valeur de la capacité massique de l'eau\n",
        "ceau = 4.18e3 #J/K/kg\n",
        "\n",
        "liste_C = \n",
        "\n"
      ],
      "metadata": {
        "id": "ofUfYlIQ6w_X"
      },
      "execution_count": null,
      "outputs": []
    },
    {
      "cell_type": "markdown",
      "source": [
        "🖊 **A rédiger sur votre feuille**\n",
        "\n",
        "5. Commenter le résultat obtenu. Quel semble être la plus grande source d'incertitude dans cette mesure ?\n",
        "\n",
        "6. Quelles hypothèses du modèle utilisé peuvent vous paraître discutables ? Proposer éventuellement une méthode de calcul ou de mesure permettant de s'affranchir des erreurs réalisées en faisant ces hypothèses."
      ],
      "metadata": {
        "id": "br02om917idh"
      }
    },
    {
      "cell_type": "markdown",
      "source": [
        "##E. Mesure d'une capacité d'un métal"
      ],
      "metadata": {
        "id": "lclt9o5v9bqS"
      }
    },
    {
      "cell_type": "markdown",
      "source": [
        "### Protocole et réalisation \n",
        "On souhaite utiliser le principe de la méthode précédente pour déterminer la capacité massique d'un métal\n",
        "\n",
        "Plusieurs morceaux de métal (Fer, Zinc, Cuivre et Aluminium) dont les volumes calibrés sont à votre disposition.\n",
        "\n",
        "\n",
        "On donne le protocole ci-dessous :\n",
        "\n",
        "- Peser un des morceaux de métal ($m$) et l'introduire dans le vase.\n",
        "- Ajouter une masse d'eau connue ($m_1$) d'environ 100g dans le vase. \n",
        "-\tAttendre l'équilibre thermique et noter la température $T_1$.\n",
        "- Ajouter une masse ($m_2\\approx 200 g$) connue d'eau chaude non bouillante dont vous connaissez la température $T_2$.  Agiter, et une fois la température stabilisée (attendre au moins deux minutes), noter la température finale atteinte $T_f$.\n",
        "\n",
        "💻/🖊 **À vous de jouer**\n",
        "\n",
        "7. Réaliser le protocole en choisissant votre matériel puis noter vos valeurs de $m$, $m_1$, $m_2$, $T_1$, $T_2$ et $T_f$ avec leurs incertitudes.\n",
        "8. En supposant le calorimètre idéal, déterminer la capacité massique du morceau de métal introduit avec son incertitude. \n",
        "\n",
        "Les calculs numériques seront menés avec Python et les méthodes vues précédemment, les raisonnements théoriques seront rédigés sur feuille.\n"
      ],
      "metadata": {
        "id": "Mcyyms509mgD"
      }
    },
    {
      "cell_type": "code",
      "source": [
        "#Votre code Python ici"
      ],
      "metadata": {
        "id": "eyoD5kxm-TIg"
      },
      "execution_count": null,
      "outputs": []
    },
    {
      "cell_type": "markdown",
      "source": [
        "### Validation du résultat\n",
        "\n",
        "On considèrera qu'une mesure effectuée (distirbution de valeur moyenne $x$, écart-type $u(x)$) est en accord (avec 95\\% de confiance) avec une valeur théorique $x_{th}$ si  son $z$-score est inférieur ou égal à 2.\n",
        "\n",
        "Le $z$-score se calcule en comptant le nombre d'écart-types qui sépare la moyenne de la valeur théorique :\n",
        "$$z=\\frac{|x-x_{th}|}{u(x)}$$\n",
        "\n",
        "Des valeurs théoriques de capacité thermique pour le cuivre, l'aluminium et le plomb sont données [sur cette page](http://hyperphysics.phy-astr.gsu.edu/hbase/Tables/sphtt.html#c1).\n"
      ],
      "metadata": {
        "id": "fGRwbjO2-U7q"
      }
    },
    {
      "cell_type": "markdown",
      "source": [
        "💻 **À vous de coder**\n",
        "\n",
        "Calculer le $z$-score obtenu sur votre résultat dans la zone de code ci-dessous. "
      ],
      "metadata": {
        "id": "oak2hJBP2Jg2"
      }
    },
    {
      "cell_type": "code",
      "source": [
        "## Votre code Python ici"
      ],
      "metadata": {
        "id": "YkBGy17a2SP9"
      },
      "execution_count": null,
      "outputs": []
    },
    {
      "cell_type": "markdown",
      "source": [
        "🖊 **À rédiger sur votre feuille**\n",
        "9. Que peut-on conclure de votre résultat ? La mesure est-elle compatible ?\n",
        "10. Que pensez-vous de la précision du protocole de mesure ? de sa fiabilité ?"
      ],
      "metadata": {
        "id": "0FRxZQQa2XMD"
      }
    }
  ],
  "metadata": {
    "kernelspec": {
      "name": "python3",
      "display_name": "Python 3",
      "language": "python"
    },
    "celltoolbar": "Aucun(e)",
    "colab": {
      "provenance": [],
      "collapsed_sections": []
    }
  },
  "nbformat": 4,
  "nbformat_minor": 0
}